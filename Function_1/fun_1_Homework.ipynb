{
 "cells": [
  {
   "cell_type": "markdown",
   "id": "0d5da8d8-7935-4c64-88de-d71655b4724c",
   "metadata": {},
   "source": [
    "# 1. You have to write a fun in which will take string and return a len of it without using inbuilt fun len()."
   ]
  },
  {
   "cell_type": "code",
   "execution_count": 1,
   "id": "d443372e-cec1-453e-8804-7f1e777365c2",
   "metadata": {},
   "outputs": [],
   "source": [
    "def test():\n",
    "    \"\"\" This is the program which helps you to find length of the string\"\"\"\n",
    "    count = 0\n",
    "    string = input(\"Enter the string: \")\n",
    "    for i in string:\n",
    "        # if type(i) == string:\n",
    "            count = count + 1\n",
    "    return count\n",
    "            "
   ]
  },
  {
   "cell_type": "code",
   "execution_count": 2,
   "id": "43c50283-c2ee-4bae-b224-635f346b2666",
   "metadata": {},
   "outputs": [
    {
     "name": "stdin",
     "output_type": "stream",
     "text": [
      "Enter the string:  rajat\n"
     ]
    },
    {
     "data": {
      "text/plain": [
       "5"
      ]
     },
     "execution_count": 2,
     "metadata": {},
     "output_type": "execute_result"
    }
   ],
   "source": [
    "test()"
   ]
  },
  {
   "cell_type": "markdown",
   "id": "6d9fccfd-78f7-46a0-832e-2494b7cde5e2",
   "metadata": {},
   "source": [
    "---"
   ]
  },
  {
   "cell_type": "markdown",
   "id": "0dff1e7a-ada1-4fc9-ad0d-75a45b9ee2a4",
   "metadata": {},
   "source": [
    "# 2. write a function which will be able to print an index of list element without using an index function"
   ]
  },
  {
   "cell_type": "code",
   "execution_count": 2,
   "id": "30ebe5f3-71ab-41b1-bbe5-f8d02697bd92",
   "metadata": {},
   "outputs": [],
   "source": [
    "def test1():\n",
    "    l = [\"eat\", \"sleep\", \"repeat\", 1, 23]\n",
    "    for i in range(0,len(l)):\n",
    "        print(l[i],\":\",i)"
   ]
  },
  {
   "cell_type": "code",
   "execution_count": 3,
   "id": "a04997e0-1a77-430f-9f3a-2807c9e7328a",
   "metadata": {},
   "outputs": [
    {
     "name": "stdout",
     "output_type": "stream",
     "text": [
      "eat : 0\n",
      "sleep : 1\n",
      "repeat : 2\n",
      "1 : 3\n",
      "23 : 4\n"
     ]
    }
   ],
   "source": [
    "test1()"
   ]
  },
  {
   "cell_type": "markdown",
   "id": "3598177e-9078-48f8-87cd-c18125837fde",
   "metadata": {},
   "source": [
    "---"
   ]
  },
  {
   "cell_type": "markdown",
   "id": "d816ddb3-a5a1-4b95-a1c4-5378052bcc04",
   "metadata": {},
   "source": [
    "# 3. Write a fun which take an input as dic and give me out as a list of all values even in case of 2 level nesting it should work."
   ]
  },
  {
   "cell_type": "code",
   "execution_count": 10,
   "id": "da0ff281-ad1f-498d-a953-489908342783",
   "metadata": {},
   "outputs": [],
   "source": [
    "def test2():\n",
    "    my_dict = {\n",
    "  \"brand\": \"Ford\",\n",
    "  \"model\": \"Mustang\",\n",
    "  \"year\": 1964}\n",
    "    my_list = list()\n",
    "    if type(my_dict) == dict:\n",
    "        for i in my_dict.keys():\n",
    "            my_list.append(i)\n",
    "    return my_list"
   ]
  },
  {
   "cell_type": "code",
   "execution_count": 12,
   "id": "7fed52b5-69ec-4f5a-b0d4-b186442fc4c5",
   "metadata": {},
   "outputs": [],
   "source": [
    "def test2():\n",
    "    my_dict = {\n",
    "  \"brand\": \"Ford\",\n",
    "  \"model\": \"Mustang\",\n",
    "  \"year\": 1964}\n",
    "    my_list = list()\n",
    "    if type(my_dict) == dict:\n",
    "        for i in my_dict.values():\n",
    "            my_list.append(i)\n",
    "    return my_list"
   ]
  },
  {
   "cell_type": "code",
   "execution_count": 13,
   "id": "4aa32c58-c7d1-47cf-aebd-38ce6921ba26",
   "metadata": {},
   "outputs": [
    {
     "data": {
      "text/plain": [
       "['Ford', 'Mustang', 1964]"
      ]
     },
     "execution_count": 13,
     "metadata": {},
     "output_type": "execute_result"
    }
   ],
   "source": [
    "test2()"
   ]
  },
  {
   "cell_type": "markdown",
   "id": "07b8781a-4006-4db9-b51e-d4fad24a412c",
   "metadata": {},
   "source": [
    "---"
   ]
  },
  {
   "cell_type": "markdown",
   "id": "50250973-d6e9-4e1d-9839-630561ad5a59",
   "metadata": {},
   "source": [
    "# 4. Write a function which will take an input as another function and return me an output."
   ]
  },
  {
   "cell_type": "code",
   "execution_count": 6,
   "id": "8ea0c8c4-85d7-461b-b797-bd6a545fb2fb",
   "metadata": {},
   "outputs": [
    {
     "name": "stdout",
     "output_type": "stream",
     "text": [
      "3 -1\n"
     ]
    }
   ],
   "source": [
    "def funA(a,b):\n",
    "  return (a+b,a-b)\n",
    "\n",
    "def funB(c,d):\n",
    "    print(c,d)\n",
    "\n",
    "funB(funA(1,2)[0], funA(1,2)[1])"
   ]
  },
  {
   "cell_type": "markdown",
   "id": "d01a755c-b6ac-4380-b5a2-5a3d6dd90652",
   "metadata": {},
   "source": [
    "---"
   ]
  },
  {
   "cell_type": "markdown",
   "id": "1b5b43e7-0c2f-4de6-8a71-a9b79aa9eba5",
   "metadata": {},
   "source": [
    "# 5. Write a function which will take multiple list as a input and give me an concatination of all the element as an output."
   ]
  },
  {
   "cell_type": "code",
   "execution_count": 7,
   "id": "bd283741-5a30-4fd2-b8fb-0decc7e04468",
   "metadata": {},
   "outputs": [],
   "source": [
    "def test5():\n",
    "    my_list1 = [\"eat\", \"sleep\", \"repeat\", 1, 23]\n",
    "    my_list2 = [\"apple\",\"noddles\",\"23.2\",232,112]\n",
    "    \n",
    "    my_list = my_list1 + my_list2\n",
    "    return my_list"
   ]
  },
  {
   "cell_type": "code",
   "execution_count": 8,
   "id": "6a64e885-93ba-45eb-9c2e-d229a41a13e4",
   "metadata": {},
   "outputs": [
    {
     "data": {
      "text/plain": [
       "['eat', 'sleep', 'repeat', 1, 23, 'apple', 'noddles', '23.2', 232, 112]"
      ]
     },
     "execution_count": 8,
     "metadata": {},
     "output_type": "execute_result"
    }
   ],
   "source": [
    "test5()"
   ]
  },
  {
   "cell_type": "markdown",
   "id": "663dc7ae-bc03-4267-bc61-c5b727ef104d",
   "metadata": {},
   "source": [
    "---"
   ]
  },
  {
   "cell_type": "markdown",
   "id": "36face91-784e-4572-afc4-4d664c8b444a",
   "metadata": {},
   "source": [
    "# 6. Write a function which will able to take a list as an input and return an index of each element like a inbuilt index function but even if we have repetative element "
   ]
  },
  {
   "cell_type": "code",
   "execution_count": 14,
   "id": "1414fdf0-63ec-493a-a321-97fbaad3ce2b",
   "metadata": {},
   "outputs": [],
   "source": [
    "def test6():\n",
    "    my_list1 = [\"eat\", \"sleep\", \"repeat\", 1, 23]\n",
    "    for i in range(0,len(my_list1)):\n",
    "        print(my_list1[i],\":\",i)\n",
    "    return my_list1"
   ]
  },
  {
   "cell_type": "code",
   "execution_count": 15,
   "id": "23e5b7dc-c1da-4d69-bbac-0fce5187c405",
   "metadata": {},
   "outputs": [
    {
     "name": "stdout",
     "output_type": "stream",
     "text": [
      "eat : 0\n",
      "sleep : 1\n",
      "repeat : 2\n",
      "1 : 3\n",
      "23 : 4\n"
     ]
    },
    {
     "data": {
      "text/plain": [
       "['eat', 'sleep', 'repeat', 1, 23]"
      ]
     },
     "execution_count": 15,
     "metadata": {},
     "output_type": "execute_result"
    }
   ],
   "source": [
    "test6()"
   ]
  },
  {
   "cell_type": "markdown",
   "id": "c9898be6-3f1b-4ba8-b526-14b0847da5b8",
   "metadata": {},
   "source": [
    "---"
   ]
  },
  {
   "cell_type": "markdown",
   "id": "9248bd24-8b6f-401b-bb5a-471e8e1f2cff",
   "metadata": {},
   "source": [
    "# 7. write a function which will would return list of all the file name from a directory."
   ]
  },
  {
   "cell_type": "code",
   "execution_count": 17,
   "id": "ee8b1a6f-184a-4d7a-8c31-317b2fe5bb15",
   "metadata": {},
   "outputs": [
    {
     "ename": "FileNotFoundError",
     "evalue": "[Errno 2] No such file or directory: 'Downloads'",
     "output_type": "error",
     "traceback": [
      "\u001b[0;31m---------------------------------------------------------------------------\u001b[0m",
      "\u001b[0;31mFileNotFoundError\u001b[0m                         Traceback (most recent call last)",
      "Cell \u001b[0;32mIn [17], line 6\u001b[0m\n\u001b[1;32m      4\u001b[0m \u001b[38;5;66;03m# Get the list of all files and directories\u001b[39;00m\n\u001b[1;32m      5\u001b[0m path \u001b[38;5;241m=\u001b[39m \u001b[38;5;124m\"\u001b[39m\u001b[38;5;124mDownloads\u001b[39m\u001b[38;5;124m\"\u001b[39m\n\u001b[0;32m----> 6\u001b[0m dir_list \u001b[38;5;241m=\u001b[39m \u001b[43mos\u001b[49m\u001b[38;5;241;43m.\u001b[39;49m\u001b[43mlistdir\u001b[49m\u001b[43m(\u001b[49m\u001b[43mpath\u001b[49m\u001b[43m)\u001b[49m\n\u001b[1;32m      8\u001b[0m \u001b[38;5;28mprint\u001b[39m(\u001b[38;5;124m\"\u001b[39m\u001b[38;5;124mFiles and directories in \u001b[39m\u001b[38;5;124m'\u001b[39m\u001b[38;5;124m\"\u001b[39m, path, \u001b[38;5;124m\"\u001b[39m\u001b[38;5;124m'\u001b[39m\u001b[38;5;124m :\u001b[39m\u001b[38;5;124m\"\u001b[39m)\n\u001b[1;32m     10\u001b[0m \u001b[38;5;66;03m# prints all files\u001b[39;00m\n",
      "\u001b[0;31mFileNotFoundError\u001b[0m: [Errno 2] No such file or directory: 'Downloads'"
     ]
    }
   ],
   "source": [
    "# import OS module\n",
    "import os\n",
    " \n",
    "# Get the list of all files and directories\n",
    "path = \"Downloads\"\n",
    "dir_list = os.listdir(path)\n",
    " \n",
    "print(\"Files and directories in '\", path, \"' :\")\n",
    " \n",
    "# prints all files\n",
    "print(dir_list)"
   ]
  },
  {
   "cell_type": "markdown",
   "id": "711e3b42-8025-4440-b2e4-3972d0f69757",
   "metadata": {},
   "source": [
    "---"
   ]
  },
  {
   "cell_type": "markdown",
   "id": "baf0da4f-9331-4833-8883-ece5009ac568",
   "metadata": {},
   "source": [
    "# 8. Write a function which will be able to show your system configuration."
   ]
  },
  {
   "cell_type": "code",
   "execution_count": 2,
   "id": "d41738d9-0fc3-48b3-9cb9-ccd53999f916",
   "metadata": {},
   "outputs": [
    {
     "name": "stdout",
     "output_type": "stream",
     "text": [
      "System: Linux\n",
      "Node Name: d5899202a5fd\n",
      "Release: 5.15.0-1022-aws\n",
      "Version: #26-Ubuntu SMP Thu Oct 13 12:59:25 UTC 2022\n",
      "Machine: x86_64\n",
      "Processor: x86_64\n"
     ]
    }
   ],
   "source": [
    "import platform\n",
    "\n",
    "my_system = platform.uname()\n",
    "\n",
    "print(f\"System: {my_system.system}\")\n",
    "print(f\"Node Name: {my_system.node}\")\n",
    "print(f\"Release: {my_system.release}\")\n",
    "print(f\"Version: {my_system.version}\")\n",
    "print(f\"Machine: {my_system.machine}\")\n",
    "print(f\"Processor: {my_system.processor}\")\n"
   ]
  },
  {
   "cell_type": "markdown",
   "id": "8d2ec9ef-1e1d-44b4-bf41-d667f7425353",
   "metadata": {},
   "source": [
    "---"
   ]
  },
  {
   "cell_type": "markdown",
   "id": "ce0567fb-4963-4977-8ba1-0118a62b3810",
   "metadata": {},
   "source": [
    "# 9. Write a function which will able to show date and time."
   ]
  },
  {
   "cell_type": "code",
   "execution_count": 6,
   "id": "49b88d93-1940-48c7-b00d-02adc74e79a1",
   "metadata": {},
   "outputs": [
    {
     "name": "stdout",
     "output_type": "stream",
     "text": [
      "The current time in india is : 2022-11-09 15:25:39.950512+05:30\n"
     ]
    }
   ],
   "source": [
    "# for now()\n",
    "import datetime\n",
    "\n",
    "# for timezone()\n",
    "import pytz\n",
    "\n",
    "# using now() to get current time\n",
    "current_time = datetime.datetime.now(pytz.timezone('Asia/Kolkata'))\n",
    "\n",
    "# printing current time in india\n",
    "print(\"The current time in india is :\", current_time)\n"
   ]
  },
  {
   "cell_type": "markdown",
   "id": "3b65a68d-2201-4c28-8cf6-7337219b313f",
   "metadata": {},
   "source": [
    "---"
   ]
  },
  {
   "cell_type": "markdown",
   "id": "0b74d097-0729-4352-9aa2-fe7e0ad6257b",
   "metadata": {},
   "source": [
    "# 10. Write a function which will able to read image file and show to you."
   ]
  },
  {
   "cell_type": "code",
   "execution_count": 1,
   "id": "afec7e30-b35c-4a41-a239-9fd8c4a34f8a",
   "metadata": {},
   "outputs": [
    {
     "name": "stdout",
     "output_type": "stream",
     "text": [
      "PNG\n",
      "RGBA\n"
     ]
    },
    {
     "name": "stderr",
     "output_type": "stream",
     "text": [
      "/usr/bin/xdg-open: 882: www-browser: not found\n",
      "/usr/bin/xdg-open: 882: links2: not found\n",
      "/usr/bin/xdg-open: 882: elinks: not found\n",
      "/usr/bin/xdg-open: 882: links: not found\n",
      "/usr/bin/xdg-open: 882: lynx: not found\n",
      "/usr/bin/xdg-open: 882: w3m: not found\n",
      "xdg-open: no method available for opening '/tmp/tmpqdvhgkba.PNG'\n"
     ]
    }
   ],
   "source": [
    "# Python program to read\n",
    "# image using PIL module\n",
    "\n",
    "# importing PIL\n",
    "from PIL import Image\n",
    "\n",
    "# Read image\n",
    "img = Image.open('ineuron-logo.png')\n",
    "\n",
    "# Output Images\n",
    "img.show()\n",
    "\n",
    "# prints format of image\n",
    "print(img.format)\n",
    "\n",
    "# prints mode of image\n",
    "print(img.mode)\n"
   ]
  },
  {
   "cell_type": "code",
   "execution_count": 1,
   "id": "3f69df46-851a-4b80-9575-129beca8acf7",
   "metadata": {},
   "outputs": [
    {
     "name": "stdout",
     "output_type": "stream",
     "text": [
      "\u001b[31mERROR: Could not find a version that satisfies the requirement cv2 (from versions: none)\u001b[0m\u001b[31m\n",
      "\u001b[0m\u001b[31mERROR: No matching distribution found for cv2\u001b[0m\u001b[31m\n",
      "\u001b[0mNote: you may need to restart the kernel to use updated packages.\n"
     ]
    }
   ],
   "source": [
    "pip install cv2"
   ]
  },
  {
   "cell_type": "code",
   "execution_count": 2,
   "id": "57cde684-e4ba-4472-842b-f6b2e68af69d",
   "metadata": {},
   "outputs": [
    {
     "ename": "ModuleNotFoundError",
     "evalue": "No module named 'cv2'",
     "output_type": "error",
     "traceback": [
      "\u001b[0;31m---------------------------------------------------------------------------\u001b[0m",
      "\u001b[0;31mModuleNotFoundError\u001b[0m                       Traceback (most recent call last)",
      "Cell \u001b[0;32mIn [2], line 4\u001b[0m\n\u001b[1;32m      1\u001b[0m \u001b[38;5;66;03m# Python program to read image using OpenCV\u001b[39;00m\n\u001b[1;32m      2\u001b[0m \n\u001b[1;32m      3\u001b[0m \u001b[38;5;66;03m# importing OpenCV(cv2) module\u001b[39;00m\n\u001b[0;32m----> 4\u001b[0m \u001b[38;5;28;01mimport\u001b[39;00m \u001b[38;5;21;01mcv2\u001b[39;00m\n\u001b[1;32m      6\u001b[0m \u001b[38;5;66;03m# Save image in set directory\u001b[39;00m\n\u001b[1;32m      7\u001b[0m \u001b[38;5;66;03m# Read RGB image\u001b[39;00m\n\u001b[1;32m      8\u001b[0m img \u001b[38;5;241m=\u001b[39m cv2\u001b[38;5;241m.\u001b[39mimread(\u001b[38;5;124m'\u001b[39m\u001b[38;5;124mineuron-logo.png\u001b[39m\u001b[38;5;124m'\u001b[39m)\n",
      "\u001b[0;31mModuleNotFoundError\u001b[0m: No module named 'cv2'"
     ]
    }
   ],
   "source": [
    "# Python program to read image using OpenCV\n",
    "\n",
    "# importing OpenCV(cv2) module\n",
    "import cv2\n",
    "\n",
    "# Save image in set directory\n",
    "# Read RGB image\n",
    "img = cv2.imread('ineuron-logo.png')\n",
    "\n",
    "# Output img with window name as 'image'\n",
    "cv2.imshow('image', img)\n",
    "\n",
    "# Maintain output window utill\n",
    "# user presses a key\n",
    "cv2.waitKey(0)\t\n",
    "\n",
    "# Destroying present windows on screen\n",
    "cv2.destroyAllWindows()\n"
   ]
  },
  {
   "cell_type": "markdown",
   "id": "82f795b0-f7f1-46a3-bb8b-0e93e27afd9d",
   "metadata": {},
   "source": [
    "---"
   ]
  },
  {
   "cell_type": "markdown",
   "id": "bc53fc74-cdae-4b01-b2b4-faff54bb50b8",
   "metadata": {},
   "source": [
    "# 11. write a fun which can read video file and play for you."
   ]
  },
  {
   "cell_type": "code",
   "execution_count": 1,
   "id": "38b11209-21b1-4509-88f2-6f3f039d0a76",
   "metadata": {},
   "outputs": [
    {
     "name": "stdout",
     "output_type": "stream",
     "text": [
      "\u001b[31mERROR: Could not find a version that satisfies the requirement cv2 (from versions: none)\u001b[0m\u001b[31m\n",
      "\u001b[0m\u001b[31mERROR: No matching distribution found for cv2\u001b[0m\u001b[31m\n",
      "\u001b[0mNote: you may need to restart the kernel to use updated packages.\n"
     ]
    }
   ],
   "source": [
    "pip install cv2"
   ]
  },
  {
   "cell_type": "code",
   "execution_count": 2,
   "id": "d96c1b73-3d83-4dda-89b7-9ea90a50cd98",
   "metadata": {},
   "outputs": [
    {
     "ename": "ModuleNotFoundError",
     "evalue": "No module named 'cv2'",
     "output_type": "error",
     "traceback": [
      "\u001b[0;31m---------------------------------------------------------------------------\u001b[0m",
      "\u001b[0;31mModuleNotFoundError\u001b[0m                       Traceback (most recent call last)",
      "Cell \u001b[0;32mIn [2], line 2\u001b[0m\n\u001b[1;32m      1\u001b[0m \u001b[38;5;66;03m# importing libraries\u001b[39;00m\n\u001b[0;32m----> 2\u001b[0m \u001b[38;5;28;01mimport\u001b[39;00m \u001b[38;5;21;01mcv2\u001b[39;00m\n\u001b[1;32m      3\u001b[0m \u001b[38;5;28;01mimport\u001b[39;00m \u001b[38;5;21;01mnumpy\u001b[39;00m \u001b[38;5;28;01mas\u001b[39;00m \u001b[38;5;21;01mnp\u001b[39;00m\n\u001b[1;32m      5\u001b[0m \u001b[38;5;66;03m# Create a VideoCapture object and read from input file\u001b[39;00m\n",
      "\u001b[0;31mModuleNotFoundError\u001b[0m: No module named 'cv2'"
     ]
    }
   ],
   "source": [
    "# importing libraries\n",
    "import cv2\n",
    "import numpy as np\n",
    "\n",
    "# Create a VideoCapture object and read from input file\n",
    "cap = cv2.VideoCapture('videoplayback.mp4')\n",
    "\n",
    "# Check if camera opened successfully\n",
    "if (cap.isOpened()== False):\n",
    "\tprint(\"Error opening video file\")\n",
    "\n",
    "# Read until video is completed\n",
    "while(cap.isOpened()):\n",
    "\t\n",
    "# Capture frame-by-frame\n",
    "\tret, frame = cap.read()\n",
    "\tif ret == True:\n",
    "\t# Display the resulting frame\n",
    "\t\tcv2.imshow('Frame', frame)\n",
    "\t\t\n",
    "\t# Press Q on keyboard to exit\n",
    "\t\tif cv2.waitKey(25) & 0xFF == ord('q'):\n",
    "\t\t\tbreak\n",
    "\n",
    "# Break the loop\n",
    "\telse:\n",
    "\t\tbreak\n",
    "\n",
    "# When everything done, release\n",
    "# the video capture object\n",
    "cap.release()\n",
    "\n",
    "# Closes all the frames\n",
    "cv2.destroyAllWindows()\n"
   ]
  },
  {
   "cell_type": "markdown",
   "id": "a972346c-9a4a-445f-a286-a9122c81982b",
   "metadata": {},
   "source": [
    "---"
   ]
  },
  {
   "cell_type": "markdown",
   "id": "600cf3a6-56a9-4d8e-856a-80c85907c03d",
   "metadata": {},
   "source": [
    "# 12. Write a function which will able to move a file from one directory to another directory."
   ]
  },
  {
   "cell_type": "code",
   "execution_count": 1,
   "id": "96cab5b0-ce15-4c44-aa02-e08c643b9e0d",
   "metadata": {},
   "outputs": [
    {
     "ename": "SyntaxError",
     "evalue": "(unicode error) 'unicodeescape' codec can't decode bytes in position 2-3: truncated \\UXXXXXXXX escape (2249253623.py, line 3)",
     "output_type": "error",
     "traceback": [
      "\u001b[0;36m  Cell \u001b[0;32mIn [1], line 3\u001b[0;36m\u001b[0m\n\u001b[0;31m    f1 = 'C:\\Users\\DELL\\Desktop\\f1'\u001b[0m\n\u001b[0m                                   ^\u001b[0m\n\u001b[0;31mSyntaxError\u001b[0m\u001b[0;31m:\u001b[0m (unicode error) 'unicodeescape' codec can't decode bytes in position 2-3: truncated \\UXXXXXXXX escape\n"
     ]
    }
   ],
   "source": [
    "import os\n",
    "\n",
    "f1 = 'C:\\Users\\DELL\\Desktop\\f1'\n",
    "f2 = 'C:\\Users\\DELL\\Desktop\\f2'\n",
    "\n",
    "# gather all files\n",
    "allfiles = os.listdir(f1)\n",
    "\n",
    "# iterate on all files to move them to destination folder\n",
    "for f in allfiles:\n",
    "\tsrc_path = os.path.join(f1, f)\n",
    "\tdst_path = os.path.join(f2, f)\n",
    "\tos.rename(src_path, dst_path)\n"
   ]
  },
  {
   "cell_type": "markdown",
   "id": "9334c3c2-dcc8-45c1-b9a1-78a70bded2d4",
   "metadata": {},
   "source": [
    "# 13. write a function which will shutdown your system"
   ]
  },
  {
   "cell_type": "code",
   "execution_count": 2,
   "id": "66fbf60b-cb8e-45bd-863a-11296959e9bd",
   "metadata": {},
   "outputs": [
    {
     "name": "stderr",
     "output_type": "stream",
     "text": [
      "sh: 1: shutdown: not found\n"
     ]
    },
    {
     "data": {
      "text/plain": [
       "32512"
      ]
     },
     "execution_count": 2,
     "metadata": {},
     "output_type": "execute_result"
    }
   ],
   "source": [
    "import os\n",
    "os.system(\"shutdown /s /t 4\")\n",
    "\n",
    "# os.system(\"shutdown /r /t 4\") # Restart\n",
    "\n",
    "# /s - shutdown\n",
    "# /r - restart\n",
    "# /t 1(timer)  - timer parameter"
   ]
  },
  {
   "cell_type": "markdown",
   "id": "0825de4b-e1d3-4813-ad0d-5e6276c9d688",
   "metadata": {},
   "source": [
    "---"
   ]
  },
  {
   "cell_type": "markdown",
   "id": "7f92506d-703a-44b1-814c-c153ae9b4512",
   "metadata": {},
   "source": [
    "# 14. Write a function which will able to access your mail."
   ]
  },
  {
   "cell_type": "markdown",
   "id": "020574d4-f635-43ae-a5b8-b78ea6d81d62",
   "metadata": {},
   "source": [
    "---"
   ]
  },
  {
   "cell_type": "markdown",
   "id": "8232a214-ca0c-4909-8ecd-41485b3af460",
   "metadata": {},
   "source": [
    "# 15. write a function which will be able to read all the mails"
   ]
  },
  {
   "cell_type": "code",
   "execution_count": 4,
   "id": "269a4041-58f7-4bd6-9d63-79a981a7a4b0",
   "metadata": {},
   "outputs": [
    {
     "name": "stdout",
     "output_type": "stream",
     "text": [
      "From : \"Great Lakes DSE\" <dse@course.mygreatlearning.com>\n",
      "\n",
      "Subject : =?utf-8?B?8J+SuCA4NSUgc2FsYXJ5IGhpa2U6IENoZWNrIHdoZXJlIHlvdSBz?=\n",
      "\t=?utf-8?B?dGFuZCBbU2FsYXJ5IEJ1aWxkZXIgSW5zaWRlXSB8IEFwcGxpY2F0aW9ucyBj?=\n",
      "\t=?utf-8?B?bG9zZSBpbiA1IGRheXM=?=\n",
      "\n",
      "From : Naukri Alerts <naukrialerts@naukri.com>\n",
      "\n",
      "Subject : \n",
      " Rajat Bisoe, Immediate Requirement for M Tech Fresher, Senior\n",
      " Research Engineer\n",
      "\n",
      "From : IEEE Spectrum <ieee-spectrum@deliver.ieee.org>\n",
      "\n",
      "Subject : University Spotlight\n",
      "\n",
      "From : \"iNeuron.ai\" <contact@ineuron.ai>\n",
      "\n",
      "Subject : Join The Doubt Clearing Class Of Full Stack Data Science BootCamp 2.0\n",
      "\n",
      "From : Google Business Profile <businessprofile-noreply@google.com>\n",
      "\n",
      "Subject : BISOE COMPLEX, your performance report for October 2022\n",
      "\n"
     ]
    },
    {
     "ename": "NameError",
     "evalue": "name 'traceback' is not defined",
     "output_type": "error",
     "traceback": [
      "\u001b[0;31m---------------------------------------------------------------------------\u001b[0m",
      "\u001b[0;31mUnicodeDecodeError\u001b[0m                        Traceback (most recent call last)",
      "Cell \u001b[0;32mIn [4], line 29\u001b[0m, in \u001b[0;36mread_email_from_gmail\u001b[0;34m()\u001b[0m\n\u001b[1;32m     28\u001b[0m \u001b[38;5;28;01mif\u001b[39;00m \u001b[38;5;28misinstance\u001b[39m(arr, \u001b[38;5;28mtuple\u001b[39m):\n\u001b[0;32m---> 29\u001b[0m     msg \u001b[38;5;241m=\u001b[39m email\u001b[38;5;241m.\u001b[39mmessage_from_string(\u001b[38;5;28;43mstr\u001b[39;49m\u001b[43m(\u001b[49m\u001b[43marr\u001b[49m\u001b[43m[\u001b[49m\u001b[38;5;241;43m1\u001b[39;49m\u001b[43m]\u001b[49m\u001b[43m,\u001b[49m\u001b[38;5;124;43m'\u001b[39;49m\u001b[38;5;124;43mutf-8\u001b[39;49m\u001b[38;5;124;43m'\u001b[39;49m\u001b[43m)\u001b[49m)\n\u001b[1;32m     30\u001b[0m     email_subject \u001b[38;5;241m=\u001b[39m msg[\u001b[38;5;124m'\u001b[39m\u001b[38;5;124msubject\u001b[39m\u001b[38;5;124m'\u001b[39m]\n",
      "\u001b[0;31mUnicodeDecodeError\u001b[0m: 'utf-8' codec can't decode byte 0xa0 in position 8835: invalid start byte",
      "\nDuring handling of the above exception, another exception occurred:\n",
      "\u001b[0;31mNameError\u001b[0m                                 Traceback (most recent call last)",
      "Cell \u001b[0;32mIn [4], line 39\u001b[0m\n\u001b[1;32m     36\u001b[0m         traceback\u001b[38;5;241m.\u001b[39mprint_exc() \n\u001b[1;32m     37\u001b[0m         \u001b[38;5;28mprint\u001b[39m(\u001b[38;5;28mstr\u001b[39m(e))\n\u001b[0;32m---> 39\u001b[0m \u001b[43mread_email_from_gmail\u001b[49m\u001b[43m(\u001b[49m\u001b[43m)\u001b[49m\n",
      "Cell \u001b[0;32mIn [4], line 36\u001b[0m, in \u001b[0;36mread_email_from_gmail\u001b[0;34m()\u001b[0m\n\u001b[1;32m     33\u001b[0m                 \u001b[38;5;28mprint\u001b[39m(\u001b[38;5;124m'\u001b[39m\u001b[38;5;124mSubject : \u001b[39m\u001b[38;5;124m'\u001b[39m \u001b[38;5;241m+\u001b[39m email_subject \u001b[38;5;241m+\u001b[39m \u001b[38;5;124m'\u001b[39m\u001b[38;5;130;01m\\n\u001b[39;00m\u001b[38;5;124m'\u001b[39m)\n\u001b[1;32m     35\u001b[0m \u001b[38;5;28;01mexcept\u001b[39;00m \u001b[38;5;167;01mException\u001b[39;00m \u001b[38;5;28;01mas\u001b[39;00m e:\n\u001b[0;32m---> 36\u001b[0m     \u001b[43mtraceback\u001b[49m\u001b[38;5;241m.\u001b[39mprint_exc() \n\u001b[1;32m     37\u001b[0m     \u001b[38;5;28mprint\u001b[39m(\u001b[38;5;28mstr\u001b[39m(e))\n",
      "\u001b[0;31mNameError\u001b[0m: name 'traceback' is not defined"
     ]
    }
   ],
   "source": [
    "import smtplib\n",
    "import time\n",
    "import imaplib\n",
    "import email\n",
    "ORG_EMAIL = \"@gmail.com\" \n",
    "FROM_EMAIL = 'rbisoe@gmail.com'\n",
    "FROM_PWD = 'jzvqnmrwzwhfxvcx'\n",
    "SMTP_SERVER = \"imap.gmail.com\" \n",
    "SMTP_PORT = 993\n",
    "imaplib._MAXLINE = 400000000\n",
    "\n",
    "def read_email_from_gmail():\n",
    "    try:\n",
    "        mail = imaplib.IMAP4_SSL(SMTP_SERVER)\n",
    "        mail.login(FROM_EMAIL,FROM_PWD)\n",
    "        mail.select('inbox')\n",
    "\n",
    "        data = mail.search(None, 'ALL')\n",
    "        mail_ids = data[1]\n",
    "        id_list = mail_ids[0].split()   \n",
    "        first_email_id = int(id_list[0])\n",
    "        latest_email_id = int(id_list[-1])\n",
    "\n",
    "        for i in range(latest_email_id,first_email_id, -1):\n",
    "            data = mail.fetch(str(i), '(RFC822)' )\n",
    "            for response_part in data:\n",
    "                arr = response_part[0]\n",
    "                if isinstance(arr, tuple):\n",
    "                    msg = email.message_from_string(str(arr[1],'utf-8'))\n",
    "                    email_subject = msg['subject']\n",
    "                    email_from = msg['from']\n",
    "                    print('From : ' + email_from + '\\n')\n",
    "                    print('Subject : ' + email_subject + '\\n')\n",
    "\n",
    "    except Exception as e:\n",
    "        traceback.print_exc() \n",
    "        print(str(e))\n",
    "\n",
    "read_email_from_gmail()"
   ]
  },
  {
   "cell_type": "markdown",
   "id": "5a6f2997-6f1c-46e5-8cb3-1e49e1fddf92",
   "metadata": {},
   "source": [
    "---"
   ]
  },
  {
   "cell_type": "markdown",
   "id": "131ee41b-aed7-4431-a7e2-0ea7d282405a",
   "metadata": {},
   "source": [
    "# 16. write a function to read complete pdf file"
   ]
  },
  {
   "cell_type": "code",
   "execution_count": 1,
   "id": "230c7f6a-5d40-4605-9fde-ab9b4da57c1a",
   "metadata": {},
   "outputs": [
    {
     "name": "stdout",
     "output_type": "stream",
     "text": [
      "Requirement already satisfied: PyPDF2 in /opt/conda/lib/python3.10/site-packages (2.11.1)\n",
      "Note: you may need to restart the kernel to use updated packages.\n"
     ]
    }
   ],
   "source": [
    "pip install PyPDF2"
   ]
  },
  {
   "cell_type": "code",
   "execution_count": 2,
   "id": "3e4f984f-2b2d-47d6-9cb9-c5905ece9883",
   "metadata": {},
   "outputs": [
    {
     "name": "stdout",
     "output_type": "stream",
     "text": [
      "1\n",
      " \n",
      " \n",
      "Odisha Joint Entrance Examination\n",
      "OJEE Counselling 2022 for MBA/MCA/M.Tech/M.Arch/M.Plan\n",
      "Provisional Allotment Letter\n",
      "Personal Details\n",
      " Application No  222130000268  Candidate Name  Rashmita Bisoe\n",
      " Father Name  Ramesh Bisoe  Mother Name  Tilottama Bisoe\n",
      " Gender  Female  DOB  29-03-2001\n",
      " Domicile  Odisha  Category  General\n",
      " \n",
      "Rank Details\n",
      "OJEE Rank [M.C.A.] 8171\n",
      "Allotment Details\n",
      "Round Number 3 Rank Type OJEE RANK\n",
      "Rank 8171 Option 4\n",
      "Institute Name COLLEGE OF IT &\n",
      "MANAGEMENT EDUCATION\n",
      "(CIME), BBSRProgram Name M.SC COMPUTER SCIENCE\n",
      "Stream M.C.A. SeatType NOT APPLICABLE\n",
      "Allotment Category OPEN Allotment Quota HOME STATE\n",
      "Seat Gender GENDER NEUTRAL\n",
      " \n",
      "Dear Candidate:\n",
      "Based on your merit in OJEE 2022 / All India Test and choices of Institutions exercised by you during online Counselling, you have been provisionally\n",
      "allotted for admission to M.B.A./M.C.A./M.Tech/M.Pharma at the above-mentioned Institute. You are required to follow the following steps as per the\n",
      "scheduled date and time to be in the counselling process. In case of not following the steps as mentioned bellow, the allotted seat would be cancelled.\n",
      "1. Exercise your option for Freeze or Float.\n",
      "2. Upload the documents as listed below in pdf format as per the size specified.\n",
      "3. Pay the part admission fees as mentioned in the Counselling Brochure.\n",
      "4. Regularly check the document verification status for any query raised by the Verifying Officer. Comply to the query, if raised, quickly within scheduled\n",
      "time. If not complied satisfactorily within due time, the allotted seat would be cancelled.\n",
      "Documents to upload\n",
      "Photo Id proof (Aadhaar Card/any other Govt document having photograph)1.\n",
      "10th Board Certificate/Birth Certificate in support of the Date of Birth2.\n",
      "Graduation Marksheet3.\n",
      "Graduation Certificate4.\n",
      "Nativity/Resident Certificate as specified in Counselling Brochure. (If required)5.\n",
      "Green Card (If applicable as per Counselling Brochure)6.\n",
      "ST/SC/General EWS certificate (For Odisha Natives only), If applicable7.\n",
      "Income Certificate as mentioned in counselling brochure (for MCA and MBA, if claimed TFW)8.\n",
      "12th Board Marksheet for M.C.A. candidates9.\n",
      "Employer Certificate10.\n",
      "No Objection Certificate and Experience Certificate from Employer (For Executive MTech)11.\n",
      "Important Instructions:-\n",
      "At any stage, if it is found that any forged/fake Documents have been uploaded by the candidate, then the seat allotted will be withdrawn and the\n",
      "candidate will be debarred from any seat. Criminal proceedings may be initiated as per the law.1.\n",
      "In case, it is found that the candidate has suppressed any material information or willfully submitted false information/documents, his / her candidature\n",
      "would be cancelled, as and when found, even at a later date.2.\n",
      "Category Certificates: If you are not able to produce certificate in support of your category/sub category (SC, ST, GC, TFW, Women), then the allotment\n",
      "made under category/sub category will be cancelled and you may be considered for allotment under General category in the next round from the\n",
      "existing vacant seats. For such case, the candidate has to express his/her willingness by uploading a handwritten/printed undertaking. But if you do not\n",
      "qualify to get seat in the General category then your seat will be cancelled.3.\n",
      "Seat Upgradation: If you accept the allotted seat and exercise float option, your allotment may be upgraded subject to the seat availability and your\n",
      "rank, in the subsequent round of seat allotment.4.\n",
      " \n",
      "Downloading Date:October 28, 2022 8:32 PM Chairman, OJEE\n"
     ]
    }
   ],
   "source": [
    "# importing required modules\n",
    "import PyPDF2\n",
    "\n",
    "# creating a pdf file object\n",
    "pdfFileObj = open('ViewGeneratedDocs.pdf', 'rb')\n",
    "\n",
    "# creating a pdf reader object\n",
    "pdfReader = PyPDF2.PdfFileReader(pdfFileObj)\n",
    "\n",
    "# printing number of pages in pdf file\n",
    "print(pdfReader.numPages)\n",
    "\n",
    "# creating a page object\n",
    "pageObj = pdfReader.getPage(0)\n",
    "\n",
    "# extracting text from page\n",
    "print(pageObj.extractText())\n",
    "\n",
    "# closing the pdf file object\n",
    "pdfFileObj.close()\n"
   ]
  },
  {
   "cell_type": "markdown",
   "id": "28cdad1f-a2c4-47c2-9eeb-1b14131fa497",
   "metadata": {},
   "source": [
    "---"
   ]
  },
  {
   "cell_type": "markdown",
   "id": "f6c94b83-6ed5-42f4-9b94-8c9dc46ef259",
   "metadata": {},
   "source": [
    "# 17. write a function to read word file."
   ]
  },
  {
   "cell_type": "code",
   "execution_count": 6,
   "id": "ddb670fe-ea46-4f58-b22a-9c3bed0a16ee",
   "metadata": {},
   "outputs": [
    {
     "name": "stdout",
     "output_type": "stream",
     "text": [
      "import\n",
      "os\n",
      "f1\n",
      "=\n",
      "'C:\\Users\\DELL\\Desktop\\f1'\n",
      "f2\n",
      "=\n",
      "'C:\\Users\\DELL\\Desktop\\f2'\n",
      "#\n",
      "gather\n",
      "all\n",
      "files\n",
      "allfiles\n",
      "=\n",
      "os.listdir(f1)\n",
      "#\n",
      "iterate\n",
      "on\n",
      "all\n",
      "files\n",
      "to\n",
      "move\n",
      "them\n",
      "to\n",
      "destination\n",
      "folder\n",
      "for\n",
      "f\n",
      "in\n",
      "allfiles:\n",
      "src_path\n",
      "=\n",
      "os.path.join(f1,\n",
      "f)\n",
      "dst_path\n",
      "=\n",
      "os.path.join(f2,\n",
      "f)\n",
      "os.rename(src_path,\n",
      "dst_path)\n"
     ]
    }
   ],
   "source": [
    "# Python program to read\n",
    "# file word by word\n",
    "\n",
    "# opening the text file\n",
    "with open('data.txt','r') as file:\n",
    "\n",
    "\t# reading each line\t\n",
    "\tfor line in file:\n",
    "\n",
    "\t\t# reading each word\t\t\n",
    "\t\tfor word in line.split():\n",
    "\n",
    "\t\t\t# displaying the words\t\t\n",
    "\t\t\tprint(word)\n"
   ]
  },
  {
   "cell_type": "markdown",
   "id": "3906042d-5113-40ec-a43e-a905b48aac05",
   "metadata": {},
   "source": [
    "---\n",
    "OR"
   ]
  },
  {
   "cell_type": "code",
   "execution_count": 2,
   "id": "70abaae9-0f5a-41fc-b683-c8b79b47b9e1",
   "metadata": {},
   "outputs": [
    {
     "name": "stdout",
     "output_type": "stream",
     "text": [
      "Requirement already satisfied: python-docx in /opt/conda/lib/python3.10/site-packages (0.8.11)\n",
      "Requirement already satisfied: lxml>=2.3.2 in /opt/conda/lib/python3.10/site-packages (from python-docx) (4.9.1)\n",
      "Note: you may need to restart the kernel to use updated packages.\n"
     ]
    }
   ],
   "source": [
    "pip install python-docx"
   ]
  },
  {
   "cell_type": "code",
   "execution_count": 3,
   "id": "1f8354dd-5224-42a7-b3ce-917c0b1674d7",
   "metadata": {},
   "outputs": [],
   "source": [
    "import docx\n",
    "\n",
    "doc = docx.Document(\"data.docx\")"
   ]
  },
  {
   "cell_type": "markdown",
   "id": "e35dc60e-eaaa-4131-b517-8587d262c1b7",
   "metadata": {},
   "source": [
    "---"
   ]
  },
  {
   "cell_type": "markdown",
   "id": "457c40b8-2f01-4172-b34d-4a68c9c4e49b",
   "metadata": {},
   "source": [
    "# 18. Write a function which helps to filter only word file from a directory"
   ]
  },
  {
   "cell_type": "code",
   "execution_count": null,
   "id": "f992b780-432f-4b90-a0f8-b2b12feb3a7c",
   "metadata": {},
   "outputs": [],
   "source": [
    "# import glob\n",
    "\n",
    "# jpgFilenamesList = glob.glob('145592*.jpg')"
   ]
  },
  {
   "cell_type": "markdown",
   "id": "5fbd3aaa-1b57-4bcc-8ba1-cc3ec0cf0ac2",
   "metadata": {},
   "source": [
    "---"
   ]
  },
  {
   "cell_type": "markdown",
   "id": "9dcaf241-ef3a-44d7-a10f-eaeec463066d",
   "metadata": {},
   "source": [
    "# 19. write a function which will be able to print an ip address of your system"
   ]
  },
  {
   "cell_type": "code",
   "execution_count": 5,
   "id": "4a3f1d75-b31e-449e-b336-3deb22393e8e",
   "metadata": {},
   "outputs": [],
   "source": [
    "import socket\n",
    "def test2():\n",
    "    ip = socket.gethostbyname(socket.gethostname())\n",
    "    return ip"
   ]
  },
  {
   "cell_type": "code",
   "execution_count": 6,
   "id": "c788fa05-0918-4b17-9bfe-e58baba5a53b",
   "metadata": {},
   "outputs": [
    {
     "data": {
      "text/plain": [
       "'172.18.0.7'"
      ]
     },
     "execution_count": 6,
     "metadata": {},
     "output_type": "execute_result"
    }
   ],
   "source": [
    "test2()"
   ]
  },
  {
   "cell_type": "markdown",
   "id": "f7e542ed-4364-44f6-b666-b9307bef5d64",
   "metadata": {},
   "source": [
    "---"
   ]
  },
  {
   "cell_type": "markdown",
   "id": "4e008a95-a7d0-4afa-a9f0-596140eedd9d",
   "metadata": {},
   "source": [
    "# 20. Write a function which will able to append two pdf files"
   ]
  },
  {
   "cell_type": "code",
   "execution_count": 7,
   "id": "d9c75ba5-58b5-4d9e-8224-189b71eb56d4",
   "metadata": {},
   "outputs": [],
   "source": [
    "from PyPDF2 import PdfFileMerger\n",
    "\n",
    "#Create and instance of PdfFileMerger() class\n",
    "merger = PdfFileMerger()\n",
    "\n",
    "#Create a list with file names\n",
    "pdf_files = ['Chapter-1.pdf', 'Chapter-2.pdf']\n",
    "\n",
    "#Iterate over the list of file names\n",
    "for pdf_file in pdf_files:\n",
    "    #Append PDF files\n",
    "    merger.append(pdf_file)\n",
    "\n",
    "#Write out the merged PDF\n",
    "merger.write(\"merged_2_pages.pdf\")\n",
    "merger.close()"
   ]
  }
 ],
 "metadata": {
  "kernelspec": {
   "display_name": "Python 3 (ipykernel)",
   "language": "python",
   "name": "python3"
  },
  "language_info": {
   "codemirror_mode": {
    "name": "ipython",
    "version": 3
   },
   "file_extension": ".py",
   "mimetype": "text/x-python",
   "name": "python",
   "nbconvert_exporter": "python",
   "pygments_lexer": "ipython3",
   "version": "3.10.6"
  }
 },
 "nbformat": 4,
 "nbformat_minor": 5
}
