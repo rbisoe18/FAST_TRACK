{
 "cells": [
  {
   "cell_type": "code",
   "execution_count": 1,
   "id": "f781a859-dba5-48ef-9fef-945af9d51f0d",
   "metadata": {},
   "outputs": [],
   "source": [
    "def test1():\n",
    "    return 1,3,45,[1,23,4,5],\"sudh\""
   ]
  },
  {
   "cell_type": "code",
   "execution_count": 2,
   "id": "eaee22de-5738-40cd-b426-4e7efb4b00a2",
   "metadata": {},
   "outputs": [
    {
     "data": {
      "text/plain": [
       "(1, 3, 45, [1, 23, 4, 5], 'sudh')"
      ]
     },
     "execution_count": 2,
     "metadata": {},
     "output_type": "execute_result"
    }
   ],
   "source": [
    "test1()"
   ]
  },
  {
   "cell_type": "markdown",
   "id": "550a1df7-0982-4d07-af87-e6ce58e5fe29",
   "metadata": {},
   "source": [
    "---"
   ]
  },
  {
   "cell_type": "code",
   "execution_count": 3,
   "id": "c5cf83d6-b490-4faf-a885-87cfc0dc34df",
   "metadata": {},
   "outputs": [],
   "source": [
    "a,b,c,d = 2,[1,2,3,4],\"sudh\",23.2"
   ]
  },
  {
   "cell_type": "code",
   "execution_count": 4,
   "id": "0e0d473e-d6bb-43f1-ac44-63e18f41342e",
   "metadata": {},
   "outputs": [
    {
     "data": {
      "text/plain": [
       "2"
      ]
     },
     "execution_count": 4,
     "metadata": {},
     "output_type": "execute_result"
    }
   ],
   "source": [
    "a"
   ]
  },
  {
   "cell_type": "code",
   "execution_count": 5,
   "id": "79d0630e-708c-40f5-81f0-0e79976e1ac7",
   "metadata": {},
   "outputs": [
    {
     "data": {
      "text/plain": [
       "[1, 2, 3, 4]"
      ]
     },
     "execution_count": 5,
     "metadata": {},
     "output_type": "execute_result"
    }
   ],
   "source": [
    "b"
   ]
  },
  {
   "cell_type": "code",
   "execution_count": 6,
   "id": "ef2fdb5a-2364-490b-ac77-668ee247faf4",
   "metadata": {},
   "outputs": [
    {
     "data": {
      "text/plain": [
       "'sudh'"
      ]
     },
     "execution_count": 6,
     "metadata": {},
     "output_type": "execute_result"
    }
   ],
   "source": [
    "c"
   ]
  },
  {
   "cell_type": "code",
   "execution_count": 7,
   "id": "e26d599f-7dc0-41e0-bfc7-fdfd81824124",
   "metadata": {},
   "outputs": [
    {
     "data": {
      "text/plain": [
       "23.2"
      ]
     },
     "execution_count": 7,
     "metadata": {},
     "output_type": "execute_result"
    }
   ],
   "source": [
    "d"
   ]
  },
  {
   "cell_type": "code",
   "execution_count": 8,
   "id": "6b934750-0737-4566-a190-ff70d32492f5",
   "metadata": {},
   "outputs": [
    {
     "data": {
      "text/plain": [
       "'d'"
      ]
     },
     "execution_count": 8,
     "metadata": {},
     "output_type": "execute_result"
    }
   ],
   "source": [
    "c[2]"
   ]
  },
  {
   "cell_type": "code",
   "execution_count": 9,
   "id": "4f789eb8-46ef-4796-850a-c34228c78fdb",
   "metadata": {},
   "outputs": [
    {
     "data": {
      "text/plain": [
       "3"
      ]
     },
     "execution_count": 9,
     "metadata": {},
     "output_type": "execute_result"
    }
   ],
   "source": [
    "b[2]"
   ]
  },
  {
   "cell_type": "markdown",
   "id": "7bd909e6-16e6-4273-88b8-01c9c28c4e85",
   "metadata": {},
   "source": [
    "---"
   ]
  },
  {
   "cell_type": "code",
   "execution_count": 12,
   "id": "9cb9c52e-d0af-4548-ad1a-d518c44a1791",
   "metadata": {},
   "outputs": [],
   "source": [
    "x,y,u,v,z = test1()"
   ]
  },
  {
   "cell_type": "code",
   "execution_count": 13,
   "id": "38f02d2e-0bf4-4388-9a33-03a6532a0e7f",
   "metadata": {},
   "outputs": [
    {
     "data": {
      "text/plain": [
       "1"
      ]
     },
     "execution_count": 13,
     "metadata": {},
     "output_type": "execute_result"
    }
   ],
   "source": [
    "x"
   ]
  },
  {
   "cell_type": "code",
   "execution_count": 14,
   "id": "ee36fa50-766b-4e0c-901c-38b567d4169e",
   "metadata": {},
   "outputs": [
    {
     "data": {
      "text/plain": [
       "3"
      ]
     },
     "execution_count": 14,
     "metadata": {},
     "output_type": "execute_result"
    }
   ],
   "source": [
    "y"
   ]
  },
  {
   "cell_type": "code",
   "execution_count": 15,
   "id": "de70f2ef-eb5c-4245-9c4b-9027992a0cb3",
   "metadata": {},
   "outputs": [
    {
     "data": {
      "text/plain": [
       "45"
      ]
     },
     "execution_count": 15,
     "metadata": {},
     "output_type": "execute_result"
    }
   ],
   "source": [
    "u"
   ]
  },
  {
   "cell_type": "code",
   "execution_count": 16,
   "id": "0772ea29-2055-4ca6-80a8-5dc1d157cb6f",
   "metadata": {},
   "outputs": [
    {
     "data": {
      "text/plain": [
       "[1, 23, 4, 5]"
      ]
     },
     "execution_count": 16,
     "metadata": {},
     "output_type": "execute_result"
    }
   ],
   "source": [
    "v"
   ]
  },
  {
   "cell_type": "code",
   "execution_count": 17,
   "id": "7ad51c40-369e-4129-b5f0-e96df56ff977",
   "metadata": {},
   "outputs": [
    {
     "data": {
      "text/plain": [
       "'sudh'"
      ]
     },
     "execution_count": 17,
     "metadata": {},
     "output_type": "execute_result"
    }
   ],
   "source": [
    "z"
   ]
  },
  {
   "cell_type": "markdown",
   "id": "46d8f41b-6076-4678-b2a9-6d8bd2f07c2f",
   "metadata": {},
   "source": [
    "---"
   ]
  },
  {
   "cell_type": "code",
   "execution_count": 20,
   "id": "4479f467-2193-4e41-ab73-270d20557394",
   "metadata": {},
   "outputs": [],
   "source": [
    "def test2():\n",
    "    a = int(input(\"Enter the value of a: \"))\n",
    "    x = a * 6 / 7\n",
    "    return x"
   ]
  },
  {
   "cell_type": "code",
   "execution_count": 22,
   "id": "bdedefc6-90e4-4565-ad21-e4798faec937",
   "metadata": {},
   "outputs": [
    {
     "name": "stdin",
     "output_type": "stream",
     "text": [
      "Enter the value of a:  7\n"
     ]
    },
    {
     "data": {
      "text/plain": [
       "6.0"
      ]
     },
     "execution_count": 22,
     "metadata": {},
     "output_type": "execute_result"
    }
   ],
   "source": [
    "test2()"
   ]
  },
  {
   "cell_type": "markdown",
   "id": "a712c1d7-c336-4ad1-9cbd-2358307643bc",
   "metadata": {},
   "source": [
    "---"
   ]
  },
  {
   "cell_type": "code",
   "execution_count": 28,
   "id": "3baa09d1-d4c1-4cec-9d73-b5cdb56dc1bc",
   "metadata": {},
   "outputs": [],
   "source": [
    "def test3():\n",
    "    string = input(\"Enter the string: \")\n",
    "    return len(string)\n",
    "    "
   ]
  },
  {
   "cell_type": "code",
   "execution_count": 30,
   "id": "4ebc9a22-4ca4-4619-9907-0292a74cf76c",
   "metadata": {},
   "outputs": [
    {
     "name": "stdin",
     "output_type": "stream",
     "text": [
      "Enter the string:  rajat\n"
     ]
    },
    {
     "data": {
      "text/plain": [
       "5"
      ]
     },
     "execution_count": 30,
     "metadata": {},
     "output_type": "execute_result"
    }
   ],
   "source": [
    "test3()"
   ]
  },
  {
   "cell_type": "markdown",
   "id": "709a3157-91ad-47ba-a536-9e06f6ae9062",
   "metadata": {},
   "source": [
    "---"
   ]
  },
  {
   "cell_type": "code",
   "execution_count": 35,
   "id": "95399352-bb50-4d72-94b1-ca9bb423a756",
   "metadata": {},
   "outputs": [],
   "source": [
    "def test4():\n",
    "    l = [1,2,3,4,\"sudh\",[23,24,33,43]]\n",
    "    a = list()\n",
    "    for i in l:\n",
    "        if type(i) == str:\n",
    "            print(i)\n",
    "            a.append(i)\n",
    "    return a"
   ]
  },
  {
   "cell_type": "code",
   "execution_count": 36,
   "id": "5c1cfed8-4511-4d5c-85ed-f7fc2239ab2b",
   "metadata": {},
   "outputs": [
    {
     "name": "stdout",
     "output_type": "stream",
     "text": [
      "sudh\n"
     ]
    },
    {
     "data": {
      "text/plain": [
       "['sudh']"
      ]
     },
     "execution_count": 36,
     "metadata": {},
     "output_type": "execute_result"
    }
   ],
   "source": [
    "test4()"
   ]
  },
  {
   "cell_type": "markdown",
   "id": "d15467c1-3be8-49b5-9c68-11d73761b953",
   "metadata": {},
   "source": [
    "---\n",
    "OR"
   ]
  },
  {
   "cell_type": "code",
   "execution_count": 39,
   "id": "e9c33b5b-eaa7-4941-9c38-4a1a72dc0a3d",
   "metadata": {},
   "outputs": [],
   "source": [
    "def test5():\n",
    "    l = [1,2,3,4,\"sudh\",[23,24,33,43]]\n",
    "    a = list()\n",
    "    if type(a) == list:\n",
    "        for i in l:\n",
    "            if type(i) == int:\n",
    "                print(i)\n",
    "                a.append(i)\n",
    "    return a"
   ]
  },
  {
   "cell_type": "code",
   "execution_count": 40,
   "id": "cfa2d50a-4757-4c56-ae68-1f9ac731a621",
   "metadata": {},
   "outputs": [
    {
     "name": "stdout",
     "output_type": "stream",
     "text": [
      "1\n",
      "2\n",
      "3\n",
      "4\n"
     ]
    },
    {
     "data": {
      "text/plain": [
       "[1, 2, 3, 4]"
      ]
     },
     "execution_count": 40,
     "metadata": {},
     "output_type": "execute_result"
    }
   ],
   "source": [
    "test5()"
   ]
  },
  {
   "cell_type": "markdown",
   "id": "aa54fd93-a589-498a-8984-852f8c93e958",
   "metadata": {},
   "source": [
    "---\n",
    "OR"
   ]
  },
  {
   "cell_type": "code",
   "execution_count": 13,
   "id": "d353a6f8-3d62-4067-8f1b-812c35fe4169",
   "metadata": {},
   "outputs": [],
   "source": [
    "l = [1,2,3,4,\"sudh\",[23,24,33,43]]"
   ]
  },
  {
   "cell_type": "code",
   "execution_count": 14,
   "id": "1d7be7c0-e059-4f38-9dba-8d8d5d34063c",
   "metadata": {},
   "outputs": [],
   "source": [
    "def test6(a):\n",
    "    n = list()\n",
    "    if type(a) == list:\n",
    "        for i in a:\n",
    "            if type(i) == int:\n",
    "                n.append(i)\n",
    "    return n"
   ]
  },
  {
   "cell_type": "code",
   "execution_count": 15,
   "id": "05ed815a-149b-4a89-9d5d-d4aa66009f84",
   "metadata": {},
   "outputs": [
    {
     "data": {
      "text/plain": [
       "[1, 2, 3, 4]"
      ]
     },
     "execution_count": 15,
     "metadata": {},
     "output_type": "execute_result"
    }
   ],
   "source": [
    "test6(l)"
   ]
  },
  {
   "cell_type": "code",
   "execution_count": 16,
   "id": "89b30278-93b6-44bd-abaa-2d135f904827",
   "metadata": {},
   "outputs": [
    {
     "data": {
      "text/plain": [
       "list"
      ]
     },
     "execution_count": 16,
     "metadata": {},
     "output_type": "execute_result"
    }
   ],
   "source": [
    "type(test6(l))"
   ]
  },
  {
   "cell_type": "code",
   "execution_count": 18,
   "id": "dc9c2363-3fa5-436d-b859-fa3bba7380df",
   "metadata": {},
   "outputs": [
    {
     "data": {
      "text/plain": [
       "[2, 3, 4, 5, 6, 7, 11, 12, 34, 54]"
      ]
     },
     "execution_count": 18,
     "metadata": {},
     "output_type": "execute_result"
    }
   ],
   "source": [
    "test6([2,3,4,5,6,7,11,12,34,54,5.0,\"sudh\",[\"rajat\",\"rahsgg\",5,6,7]])"
   ]
  },
  {
   "cell_type": "markdown",
   "id": "25931ab8-1df5-44bb-9e3f-443156ebdbf6",
   "metadata": {},
   "source": [
    "---"
   ]
  },
  {
   "cell_type": "code",
   "execution_count": 30,
   "id": "901c9de8-265b-43fb-8e49-13be15b1a35a",
   "metadata": {},
   "outputs": [],
   "source": [
    "def test7(c):\n",
    "    d = list()\n",
    "    if type(c) == dict:\n",
    "        z = c.keys()\n",
    "        d.append(z)\n",
    "        return d\n",
    "    else:\n",
    "        return \"You haven't passed the dictionary\"\n",
    "     "
   ]
  },
  {
   "cell_type": "code",
   "execution_count": 28,
   "id": "5951284a-150f-4207-817b-8a4789482c34",
   "metadata": {},
   "outputs": [],
   "source": [
    "def test8(c):\n",
    "    d = list()\n",
    "    if type(c) == dict:\n",
    "        return c.keys()\n",
    "    else:\n",
    "        return \"You haven't passed the dictionary\""
   ]
  },
  {
   "cell_type": "code",
   "execution_count": 25,
   "id": "94b02520-6944-494d-a990-ba71b004e202",
   "metadata": {},
   "outputs": [
    {
     "data": {
      "text/plain": [
       "\"You haven't passed the dictionary\""
      ]
     },
     "execution_count": 25,
     "metadata": {},
     "output_type": "execute_result"
    }
   ],
   "source": [
    "test7(\"rajat\")"
   ]
  },
  {
   "cell_type": "code",
   "execution_count": 31,
   "id": "525c9c2b-244f-4cca-946a-b7ce1d4b6b97",
   "metadata": {},
   "outputs": [
    {
     "data": {
      "text/plain": [
       "[dict_keys(['a', 'b', 'c', 'd'])]"
      ]
     },
     "execution_count": 31,
     "metadata": {},
     "output_type": "execute_result"
    }
   ],
   "source": [
    "test7({\"a\" : \"sudh\", \"b\": 23.4, \"c\": \"rajat\", \"d\": 12})"
   ]
  },
  {
   "cell_type": "code",
   "execution_count": 29,
   "id": "81dbe02a-f9d5-49f3-9f85-64a1f2e197e5",
   "metadata": {},
   "outputs": [
    {
     "data": {
      "text/plain": [
       "dict_keys(['a', 'b', 'c', 'd'])"
      ]
     },
     "execution_count": 29,
     "metadata": {},
     "output_type": "execute_result"
    }
   ],
   "source": [
    "test8({\"a\" : \"sudh\", \"b\": 23.4, \"c\": \"rajat\", \"d\": 12})"
   ]
  },
  {
   "cell_type": "markdown",
   "id": "5ccc1d5e-1765-4fcc-8167-bd86daf9ac6a",
   "metadata": {},
   "source": [
    "---"
   ]
  },
  {
   "cell_type": "code",
   "execution_count": 51,
   "id": "b7cb8e98-75a3-45d7-850e-53ca992f51ca",
   "metadata": {},
   "outputs": [],
   "source": [
    "def test9(a,b):\n",
    "    z =list()\n",
    "    if type(a) == list and type(b) == list:\n",
    "        return a.extend(b)\n",
    "    else:\n",
    "        return \"Either of your data is not list\""
   ]
  },
  {
   "cell_type": "code",
   "execution_count": 52,
   "id": "7bb96ccf-e54c-42cb-b307-b611aaaab22b",
   "metadata": {},
   "outputs": [],
   "source": [
    "test9([2,4],[2,3])"
   ]
  },
  {
   "cell_type": "code",
   "execution_count": 54,
   "id": "14c9beed-cd4c-458d-9adf-02614a005a08",
   "metadata": {},
   "outputs": [],
   "source": [
    "def test10(a,b):\n",
    "    z =list()\n",
    "    if type(a) == list and type(b) == list:\n",
    "        a.extend(b)\n",
    "        return a\n",
    "    else:\n",
    "        return \"Either of your data is not list\""
   ]
  },
  {
   "cell_type": "code",
   "execution_count": 55,
   "id": "bfe70bf6-3626-4af1-985e-0fdeba061ba9",
   "metadata": {},
   "outputs": [
    {
     "data": {
      "text/plain": [
       "[2, 4, 2, 3]"
      ]
     },
     "execution_count": 55,
     "metadata": {},
     "output_type": "execute_result"
    }
   ],
   "source": [
    "test10([2,4],[2,3])"
   ]
  },
  {
   "cell_type": "markdown",
   "id": "6d4ad1ee-d09c-40cb-a3e0-92d2c221a273",
   "metadata": {},
   "source": [
    "---"
   ]
  },
  {
   "cell_type": "code",
   "execution_count": 62,
   "id": "8996ebf1-f0ce-4aa6-8fe4-404133b3bf5a",
   "metadata": {},
   "outputs": [],
   "source": [
    "def test11():\n",
    "    for i in range(1,11):\n",
    "        a = \"*\" * i\n",
    "        i = i + 1\n",
    "        print(a)\n",
    "    return a"
   ]
  },
  {
   "cell_type": "code",
   "execution_count": 63,
   "id": "04fe98dc-d630-4642-9994-5cee6ce6e038",
   "metadata": {},
   "outputs": [
    {
     "name": "stdout",
     "output_type": "stream",
     "text": [
      "*\n",
      "**\n",
      "***\n",
      "****\n",
      "*****\n",
      "******\n",
      "*******\n",
      "********\n",
      "*********\n",
      "**********\n"
     ]
    },
    {
     "data": {
      "text/plain": [
       "'**********'"
      ]
     },
     "execution_count": 63,
     "metadata": {},
     "output_type": "execute_result"
    }
   ],
   "source": [
    "test11()"
   ]
  },
  {
   "cell_type": "markdown",
   "id": "c3defc95-2a59-4a69-9564-db699484c1c1",
   "metadata": {},
   "source": [
    "---\n",
    "OR"
   ]
  },
  {
   "cell_type": "code",
   "execution_count": 72,
   "id": "103af685-09ad-426e-93bb-370d2194988c",
   "metadata": {},
   "outputs": [],
   "source": [
    "def triangle(n):\n",
    "    for i in range(0,n):\n",
    "        for j in range(0,i+1):\n",
    "            print(\"*\", end= \" \")\n",
    "        print(\"\\r\")\n",
    "            "
   ]
  },
  {
   "cell_type": "code",
   "execution_count": 73,
   "id": "7f265e65-3e23-48bd-9ca9-40324dbb07d2",
   "metadata": {},
   "outputs": [
    {
     "name": "stdout",
     "output_type": "stream",
     "text": [
      "* \n",
      "* * \n",
      "* * * \n"
     ]
    }
   ],
   "source": [
    "triangle(3)"
   ]
  },
  {
   "cell_type": "markdown",
   "id": "65fa4624-1bb5-428d-8a9c-336302308261",
   "metadata": {},
   "source": [
    "---"
   ]
  },
  {
   "cell_type": "code",
   "execution_count": 4,
   "id": "e00e751a-15c8-4278-a736-7c032dbb624a",
   "metadata": {},
   "outputs": [],
   "source": [
    "def triangle(rows):\n",
    "    if type(rows) == int:\n",
    "        for i in range(1,rows):\n",
    "            for j in range(i):\n",
    "                print(\"*\",end=\" \")\n",
    "            print(\"\\n\")\n",
    "                "
   ]
  },
  {
   "cell_type": "code",
   "execution_count": 5,
   "id": "0377ad3f-cc3d-49fc-a943-df4f214ff44c",
   "metadata": {},
   "outputs": [
    {
     "name": "stdout",
     "output_type": "stream",
     "text": [
      "* \n",
      "\n",
      "* * \n",
      "\n",
      "* * * \n",
      "\n"
     ]
    }
   ],
   "source": [
    "triangle(4)"
   ]
  },
  {
   "cell_type": "code",
   "execution_count": null,
   "id": "59a1ce1b-6bd7-411a-b22d-f435050b8e4e",
   "metadata": {},
   "outputs": [],
   "source": []
  },
  {
   "cell_type": "code",
   "execution_count": null,
   "id": "792af412-f131-41d7-bc2e-dc11b82aca89",
   "metadata": {},
   "outputs": [],
   "source": []
  }
 ],
 "metadata": {
  "kernelspec": {
   "display_name": "Python 3 (ipykernel)",
   "language": "python",
   "name": "python3"
  },
  "language_info": {
   "codemirror_mode": {
    "name": "ipython",
    "version": 3
   },
   "file_extension": ".py",
   "mimetype": "text/x-python",
   "name": "python",
   "nbconvert_exporter": "python",
   "pygments_lexer": "ipython3",
   "version": "3.10.6"
  }
 },
 "nbformat": 4,
 "nbformat_minor": 5
}
